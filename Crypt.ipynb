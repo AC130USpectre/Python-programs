{
 "cells": [
  {
   "cell_type": "code",
   "execution_count": 6,
   "metadata": {
    "collapsed": false
   },
   "outputs": [],
   "source": [
    "from cryptography.hazmat.primitives import serialization\n",
    "from cryptography.hazmat.primitives import hashes\n",
    "\n",
    "from cryptography.hazmat.primitives.asymmetric import rsa\n",
    "from cryptography.hazmat.primitives.asymmetric import padding\n",
    "\n",
    "from cryptography.hazmat.primitives.ciphers.aead import AESGCM as aes\n",
    "\n",
    "from cryptography.hazmat.backends import default_backend\n",
    "\n",
    "from cryptography.exceptions import InvalidSignature, InvalidTag\n",
    "\n",
    "from os import urandom"
   ]
  },
  {
   "cell_type": "markdown",
   "metadata": {},
   "source": [
    "## [RSA](https://cryptography.io/en/latest/hazmat/primitives/asymmetric/rsa/)\n",
    "\n",
    "### Keys generation"
   ]
  },
  {
   "cell_type": "code",
   "execution_count": 2,
   "metadata": {
    "collapsed": true
   },
   "outputs": [],
   "source": [
    "def GenRSAKeyPair(key_size=512):\n",
    "    private_key = rsa.generate_private_key(public_exponent=65537,\n",
    "                                           key_size=key_size,\n",
    "                                           backend=default_backend())\n",
    "    return private_key"
   ]
  },
  {
   "cell_type": "markdown",
   "metadata": {},
   "source": [
    "### Keys Uploading and Downloading"
   ]
  },
  {
   "cell_type": "code",
   "execution_count": 3,
   "metadata": {
    "collapsed": true
   },
   "outputs": [],
   "source": [
    "def WriteRSAKeys(private_key, password,\n",
    "                 private_key_filename=\"private_key\",\n",
    "                 public_key_filename=\"public_key\"):\n",
    "    bytes_password = bytes(password, \"utf-8\")\n",
    "    private_key_bytes = private_key.private_bytes(\n",
    "        encoding=serialization.Encoding.PEM,\n",
    "        format=serialization.PrivateFormat.PKCS8,\n",
    "        encryption_algorithm=serialization.BestAvailableEncryption(bytes_password))\n",
    "    if not private_key_filename.endswith(\".pem\"):\n",
    "        private_key_filename = private_key_filename + \".pem\"\n",
    "    with open(private_key_filename, \"wb\") as file:\n",
    "        file.write(private_key_bytes)\n",
    "\n",
    "    public_key = private_key.public_key()\n",
    "    public_key_bytes = public_key.public_bytes(\n",
    "        encoding=serialization.Encoding.PEM,\n",
    "        format=serialization.PublicFormat.SubjectPublicKeyInfo)\n",
    "    if not public_key_filename.endswith(\".pem\"):\n",
    "        public_key_filename = public_key_filename + \".pem\"\n",
    "    with open(public_key_filename, \"wb\") as file:\n",
    "        file.write(public_key_bytes)\n",
    "    return\n",
    "\n",
    "def ReadRSAPrivateKey(password,\n",
    "                      private_key_filename=\"private_key\"):\n",
    "    bytes_password = bytes(password, \"utf-8\")\n",
    "    if not private_key_filename.endswith(\".pem\"):\n",
    "        private_key_filename = private_key_filename + \".pem\"\n",
    "    with open(private_key_filename, \"rb\") as file:\n",
    "        private_key = serialization.load_pem_private_key(\n",
    "            data=file.read(),\n",
    "            password=bytes_password,\n",
    "            backend=default_backend())\n",
    "    return private_key\n",
    "\n",
    "def ReadRSAPublicKey(public_key_filename=\"public_key\"):\n",
    "    if not public_key_filename.endswith(\".pem\"):\n",
    "        public_key_filename = public_key_filename + \".pem\"\n",
    "    with open(public_key_filename, \"rb\") as file:\n",
    "        public_key = serialization.load_pem_public_key(\n",
    "            data=file.read(),\n",
    "            backend=default_backend())\n",
    "    return public_key"
   ]
  },
  {
   "cell_type": "markdown",
   "metadata": {},
   "source": [
    "### Signing and Verification"
   ]
  },
  {
   "cell_type": "code",
   "execution_count": 4,
   "metadata": {
    "collapsed": true
   },
   "outputs": [],
   "source": [
    "def SignUsingRSA(message, private_key):\n",
    "    signature = private_key.sign(\n",
    "        data=message,\n",
    "        padding=padding.PSS(\n",
    "            mgf=padding.MGF1(hashes.SHA512()),\n",
    "            salt_length=padding.PSS.MAX_LENGTH),\n",
    "        algorithm=hashes.SHA512())\n",
    "    return signature\n",
    "\n",
    "def VerifyUsingRSA(signature, message, public_key):\n",
    "    try:\n",
    "        public_key.verify(\n",
    "            signature=signature,\n",
    "            data=message,\n",
    "            padding=padding.PSS(\n",
    "                mgf=padding.MGF1(hashes.SHA512()),\n",
    "                salt_length=padding.PSS.MAX_LENGTH),\n",
    "            algorithm=hashes.SHA512())\n",
    "        return True\n",
    "    except InvalidSignature:\n",
    "        return False"
   ]
  },
  {
   "cell_type": "markdown",
   "metadata": {},
   "source": [
    "### Encryption and Decryption"
   ]
  },
  {
   "cell_type": "code",
   "execution_count": 5,
   "metadata": {
    "collapsed": true
   },
   "outputs": [],
   "source": [
    "def EncryptUsingRSA(message, public_key):\n",
    "    cipher = public_key.encrypt(\n",
    "        plaintext=message,\n",
    "        padding=padding.OAEP(\n",
    "            mgf=padding.MGF1(algorithm=hashes.SHA512()),\n",
    "            algorithm=hashes.SHA512(),\n",
    "            label=None))\n",
    "    return cipher\n",
    "\n",
    "def DecryptUsingRSA(cipher, private_key):\n",
    "    message = private_key.decrypt(\n",
    "        ciphertext=cipher,\n",
    "        padding=padding.OAEP(\n",
    "            mgf=padding.MGF1(algorithm=hashes.SHA512()),\n",
    "            algorithm=hashes.SHA512(),\n",
    "            label=None))\n",
    "    return message"
   ]
  },
  {
   "cell_type": "markdown",
   "metadata": {},
   "source": [
    "## [AES](https://cryptography.io/en/latest/hazmat/primitives/aead/#)\n",
    "\n",
    "### Key generation, Encryption, Signing and Decryption, Verification"
   ]
  },
  {
   "cell_type": "code",
   "execution_count": 7,
   "metadata": {
    "collapsed": true
   },
   "outputs": [],
   "source": [
    "def GenerateAESKeyAndNonce(key_size=256, nonce_size=96):\n",
    "    key = aes.generate_key(bit_length=key_size)\n",
    "    nonce = urandom(nonce_size)\n",
    "    return key, nonce\n",
    "\n",
    "def EncryptAndSignUsingAES(message, key, nonce):\n",
    "    aes_obj = aes(key)\n",
    "    cipher = aes_obj.encrypt(nonce, message, None)\n",
    "    return cipher\n",
    "\n",
    "def DecryptAndVerifyUsingAES(cipher, key, nonce):\n",
    "    aes_obj = aes(key)\n",
    "    try:\n",
    "        message = aes_obj.decrypt(nonce, cipher, None)\n",
    "        verification = True\n",
    "    except InvalidTag:\n",
    "        message = b\"\"\n",
    "        verification = False\n",
    "    return verification, message"
   ]
  },
  {
   "cell_type": "markdown",
   "metadata": {},
   "source": [
    "## Interface"
   ]
  },
  {
   "cell_type": "code",
   "execution_count": 10,
   "metadata": {
    "collapsed": true
   },
   "outputs": [],
   "source": [
    "def SignAndEncryptMessage(message, sender_private_key, receiver_public_key):\n",
    "    pass\n",
    "\n",
    "def DecryptAndVerifyMessage(prefix_cipher_signature, sender_public_key, receiver_private_key):\n",
    "    pass"
   ]
  },
  {
   "cell_type": "raw",
   "metadata": {},
   "source": [
    "key, nonce = GenerateAESKeyAndNonce()\n",
    "\n",
    "message = \"Небольшой секрет\"\n",
    "bytes_message = bytes(message,  \"utf-8\")\n",
    "\n",
    "cipher = EncryptAndSignUsingAES(bytes_message, key, nonce)\n",
    "verification, bytes_message = DecryptAndVerifyUsingAES(cipher, key, nonce)\n",
    "message = bytes_message.decode(\"utf-8\")\n",
    "\n",
    "print(verification)\n",
    "print(message)"
   ]
  },
  {
   "cell_type": "raw",
   "metadata": {
    "collapsed": true
   },
   "source": [
    "sender_private_key = GenRSAKeyPair(key_size=8192)\n",
    "sender_public_key = sender_private_key.public_key()\n",
    "\n",
    "receiver_private_key = GenRSAKeyPair(key_size=8192)\n",
    "receiver_public_key = receiver_private_key.public_key()"
   ]
  },
  {
   "cell_type": "raw",
   "metadata": {},
   "source": [
    "message = \"Большой секрет\"\n",
    "\n",
    "cipher = SignAndEncryptMessageUsingRSA(message, sender_private_key, receiver_public_key)\n",
    "verification, message = DecryptAndVerifyMessageUsingRSA(cipher, sender_public_key, receiver_private_key)\n",
    "\n",
    "print(verification)\n",
    "print(message)"
   ]
  },
  {
   "cell_type": "raw",
   "metadata": {},
   "source": [
    "s = \"hello, привет\"\n",
    "b = s.encode(\"utf-8\")\n",
    "l = list(map(int, b))\n",
    "print(l)"
   ]
  },
  {
   "cell_type": "raw",
   "metadata": {},
   "source": [
    "ord(s[0])"
   ]
  },
  {
   "cell_type": "raw",
   "metadata": {},
   "source": [
    "l2 = [(2 * i + 3) % 256 for i in l]"
   ]
  }
 ],
 "metadata": {
  "anaconda-cloud": {},
  "kernelspec": {
   "display_name": "Python [default]",
   "language": "python",
   "name": "python3"
  },
  "language_info": {
   "codemirror_mode": {
    "name": "ipython",
    "version": 3
   },
   "file_extension": ".py",
   "mimetype": "text/x-python",
   "name": "python",
   "nbconvert_exporter": "python",
   "pygments_lexer": "ipython3",
   "version": "3.5.2"
  }
 },
 "nbformat": 4,
 "nbformat_minor": 2
}
