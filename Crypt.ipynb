{
 "cells": [
  {
   "cell_type": "code",
   "execution_count": null,
   "metadata": {
    "collapsed": true
   },
   "outputs": [],
   "source": [
    "from cryptography.hazmat.primitives import serialization\n",
    "from cryptography.hazmat.primitives import hashes\n",
    "\n",
    "from cryptography.hazmat.primitives.asymmetric import rsa\n",
    "from cryptography.hazmat.primitives.asymmetric import padding\n",
    "\n",
    "from cryptography.hazmat.primitives.ciphers.aead import AESGCM as aes\n",
    "\n",
    "from cryptography.hazmat.backends import default_backend\n",
    "\n",
    "from cryptography.exceptions import InvalidSignature, InvalidTag\n",
    "\n",
    "from os import urandom\n",
    "\n",
    "from zlib import compress, decompress"
   ]
  },
  {
   "cell_type": "markdown",
   "metadata": {},
   "source": [
    "## [RSA](https://cryptography.io/en/latest/hazmat/primitives/asymmetric/rsa/)\n",
    "\n",
    "### Keys generation"
   ]
  },
  {
   "cell_type": "code",
   "execution_count": null,
   "metadata": {
    "collapsed": true
   },
   "outputs": [],
   "source": [
    "def GenRSAKeyPair(key_size=512):\n",
    "    private_key = rsa.generate_private_key(public_exponent=65537,\n",
    "                                           key_size=key_size,\n",
    "                                           backend=default_backend())\n",
    "    return private_key"
   ]
  },
  {
   "cell_type": "markdown",
   "metadata": {},
   "source": [
    "### Keys Uploading and Downloading"
   ]
  },
  {
   "cell_type": "code",
   "execution_count": null,
   "metadata": {
    "collapsed": true
   },
   "outputs": [],
   "source": [
    "def WriteRSAKeys(private_key, password,\n",
    "                 private_key_filename=\"private_key\",\n",
    "                 public_key_filename=\"public_key\"):\n",
    "    bytes_password = bytes(password, \"utf-8\")\n",
    "    private_key_bytes = private_key.private_bytes(\n",
    "        encoding=serialization.Encoding.PEM,\n",
    "        format=serialization.PrivateFormat.PKCS8,\n",
    "        encryption_algorithm=serialization.BestAvailableEncryption(bytes_password))\n",
    "    if not private_key_filename.endswith(\".pem\"):\n",
    "        private_key_filename = private_key_filename + \".pem\"\n",
    "    with open(private_key_filename, \"wb\") as file:\n",
    "        file.write(private_key_bytes)\n",
    "\n",
    "    public_key = private_key.public_key()\n",
    "    public_key_bytes = public_key.public_bytes(\n",
    "        encoding=serialization.Encoding.PEM,\n",
    "        format=serialization.PublicFormat.SubjectPublicKeyInfo)\n",
    "    if not public_key_filename.endswith(\".pem\"):\n",
    "        public_key_filename = public_key_filename + \".pem\"\n",
    "    with open(public_key_filename, \"wb\") as file:\n",
    "        file.write(public_key_bytes)\n",
    "    return\n",
    "\n",
    "def ReadRSAPrivateKey(password,\n",
    "                      private_key_filename=\"private_key\"):\n",
    "    bytes_password = bytes(password, \"utf-8\")\n",
    "    if not private_key_filename.endswith(\".pem\"):\n",
    "        private_key_filename = private_key_filename + \".pem\"\n",
    "    with open(private_key_filename, \"rb\") as file:\n",
    "        private_key = serialization.load_pem_private_key(\n",
    "            data=file.read(),\n",
    "            password=bytes_password,\n",
    "            backend=default_backend())\n",
    "    return private_key\n",
    "\n",
    "def ReadRSAPublicKey(public_key_filename=\"public_key\"):\n",
    "    if not public_key_filename.endswith(\".pem\"):\n",
    "        public_key_filename = public_key_filename + \".pem\"\n",
    "    with open(public_key_filename, \"rb\") as file:\n",
    "        public_key = serialization.load_pem_public_key(\n",
    "            data=file.read(),\n",
    "            backend=default_backend())\n",
    "    return public_key"
   ]
  },
  {
   "cell_type": "markdown",
   "metadata": {},
   "source": [
    "### Signing and Verification"
   ]
  },
  {
   "cell_type": "code",
   "execution_count": null,
   "metadata": {
    "collapsed": true
   },
   "outputs": [],
   "source": [
    "def SignUsingRSA(message, private_key):\n",
    "    signature = private_key.sign(\n",
    "        data=message,\n",
    "        padding=padding.PSS(\n",
    "            mgf=padding.MGF1(hashes.SHA512()),\n",
    "            salt_length=padding.PSS.MAX_LENGTH),\n",
    "        algorithm=hashes.SHA512())\n",
    "    return signature\n",
    "\n",
    "def VerifyUsingRSA(signature, message, public_key):\n",
    "    try:\n",
    "        public_key.verify(\n",
    "            signature=signature,\n",
    "            data=message,\n",
    "            padding=padding.PSS(\n",
    "                mgf=padding.MGF1(hashes.SHA512()),\n",
    "                salt_length=padding.PSS.MAX_LENGTH),\n",
    "            algorithm=hashes.SHA512())\n",
    "        return True\n",
    "    except InvalidSignature:\n",
    "        return False"
   ]
  },
  {
   "cell_type": "markdown",
   "metadata": {},
   "source": [
    "### Encryption and Decryption"
   ]
  },
  {
   "cell_type": "code",
   "execution_count": null,
   "metadata": {
    "collapsed": true
   },
   "outputs": [],
   "source": [
    "def EncryptUsingRSA(message, public_key):\n",
    "    cipher = public_key.encrypt(\n",
    "        plaintext=message,\n",
    "        padding=padding.OAEP(\n",
    "            mgf=padding.MGF1(algorithm=hashes.SHA512()),\n",
    "            algorithm=hashes.SHA512(),\n",
    "            label=None))\n",
    "    return cipher\n",
    "\n",
    "def DecryptUsingRSA(cipher, private_key):\n",
    "    message = private_key.decrypt(\n",
    "        ciphertext=cipher,\n",
    "        padding=padding.OAEP(\n",
    "            mgf=padding.MGF1(algorithm=hashes.SHA512()),\n",
    "            algorithm=hashes.SHA512(),\n",
    "            label=None))\n",
    "    return message"
   ]
  },
  {
   "cell_type": "markdown",
   "metadata": {},
   "source": [
    "## [AES](https://cryptography.io/en/latest/hazmat/primitives/aead/#)\n",
    "\n",
    "### Key generation, Encryption, Signing and Decryption, Verification"
   ]
  },
  {
   "cell_type": "code",
   "execution_count": null,
   "metadata": {
    "collapsed": true
   },
   "outputs": [],
   "source": [
    "def GenerateAESKeyAndNonce(key_size=256, nonce_size=96):\n",
    "    key = aes.generate_key(bit_length=key_size)\n",
    "    nonce = urandom(nonce_size)\n",
    "    return key, nonce\n",
    "\n",
    "def EncryptAndSignUsingAES(message, key, nonce):\n",
    "    aes_obj = aes(key)\n",
    "    cipher = aes_obj.encrypt(nonce, message, None)\n",
    "    return cipher\n",
    "\n",
    "def DecryptAndVerifyUsingAES(cipher, key, nonce):\n",
    "    aes_obj = aes(key)\n",
    "    try:\n",
    "        message = aes_obj.decrypt(nonce, cipher, None)\n",
    "        verification = True\n",
    "    except InvalidTag:\n",
    "        message = b\"\"\n",
    "        verification = False\n",
    "    return verification, message"
   ]
  },
  {
   "cell_type": "markdown",
   "metadata": {},
   "source": [
    "## Interface"
   ]
  },
  {
   "cell_type": "code",
   "execution_count": null,
   "metadata": {
    "collapsed": true
   },
   "outputs": [],
   "source": [
    "def SignAndEncryptMessage(sender_private_key, receiver_public_key, text=None, filename=None):\n",
    "    assert(text is not None or filename is not None)\n",
    "    def len_to_2bytes(l):\n",
    "        assert(l< 256 ** 2)\n",
    "        return bytes((l // 256, l % 256))\n",
    "    def len_to_4bytes(l):\n",
    "        assert(l < 256 ** 4)\n",
    "        return bytes((l // (256 ** 3), (l // (256 ** 2)) % 256, (l // 256) % 256, l % 256))\n",
    "\n",
    "    if text is not None:\n",
    "        bytes_text = bytes(text, \"utf-8\")\n",
    "    else:\n",
    "        bytes_text = b\"\"\n",
    "    if filename is not None:\n",
    "        bytes_filename = bytes(filename, \"utf-8\")\n",
    "        with open(filename, \"rb\") as file:\n",
    "            bytes_file = file.read()\n",
    "    else:\n",
    "        bytes_filename = b\"\"\n",
    "        bytes_file = b\"\"\n",
    "\n",
    "    bytes_text_len, bytes_filename_len, bytes_file_len = tuple(map(len,\n",
    "        (bytes_text, bytes_filename, bytes_file)))\n",
    "    prefix_text_len, prefix_filename_len, prefix_file_len = tuple(map(len_to_4bytes,\n",
    "        (bytes_text_len, bytes_filename_len, bytes_file_len)))\n",
    "    message = prefix_text_len + prefix_filename_len + prefix_file_len + bytes_text + bytes_filename + bytes_file\n",
    "    compressed_message = compress(message)\n",
    "    aes_key, aes_iv = GenerateAESKeyAndNonce()\n",
    "    aes_auth_cipher = EncryptAndSignUsingAES(compressed_message, aes_key, aes_iv)\n",
    "\n",
    "    aes_key_len, aes_iv_len = tuple(map(len,\n",
    "        (aes_key, aes_iv)))\n",
    "    prefix_aes_key_len, prefix_aes_iv_len = tuple(map(len_to_2bytes,\n",
    "        (aes_key_len, aes_iv_len)))\n",
    "    aes_key_info = prefix_aes_key_len + prefix_aes_iv_len + aes_key + aes_iv\n",
    "    cipher_aes_key_info = EncryptUsingRSA(aes_key_info, receiver_public_key)\n",
    "    sign_cipher_aes_key_info = SignUsingRSA(cipher_aes_key_info, sender_private_key)\n",
    "\n",
    "    cipher_aes_key_info_len, sign_cipher_aes_key_info_len = tuple(map(len,\n",
    "        (cipher_aes_key_info, sign_cipher_aes_key_info)))\n",
    "    prefix_cipher_aes_key_info_len, prefix_sign_cipher_aes_key_info_len = tuple(map(len_to_2bytes,\n",
    "        (cipher_aes_key_info_len, sign_cipher_aes_key_info_len)))\n",
    "\n",
    "    datagram = prefix_cipher_aes_key_info_len + prefix_sign_cipher_aes_key_info_len + cipher_aes_key_info + sign_cipher_aes_key_info + aes_auth_cipher\n",
    "    return datagram\n",
    "\n",
    "def DecryptAndVerifyMessage(datagram, sender_public_key, receiver_private_key):\n",
    "    def two_bytes_to_len(b):\n",
    "        return int(b[0]) * 256 + int(b[1])\n",
    "    def four_bytes_to_len(b):\n",
    "        return int(b[0]) * (256 ** 3) + int(b[1]) * (256 ** 2) + int(b[2]) * 256 + int(b[3])\n",
    "\n",
    "    cipher_aes_key_info_len = two_bytes_to_len(datagram[:2])\n",
    "    sign_cipher_aes_key_info_len = two_bytes_to_len(datagram[2:4])\n",
    "    cipher_aes_key_info = datagram[4:(4 + cipher_aes_key_info_len)]\n",
    "    sign_cipher_aes_key_info = datagram[(4 + cipher_aes_key_info_len):(4 + cipher_aes_key_info_len + sign_cipher_aes_key_info_len)]\n",
    "    aes_auth_cipher = datagram[(4 + cipher_aes_key_info_len + sign_cipher_aes_key_info_len):]\n",
    "    verification_aes_key_info = VerifyUsingRSA(sign_cipher_aes_key_info, cipher_aes_key_info, sender_public_key)\n",
    "    aes_key_info = DecryptUsingRSA(cipher_aes_key_info, receiver_private_key)\n",
    "\n",
    "    aes_key_len = two_bytes_to_len(aes_key_info[:2])\n",
    "    aes_iv_len = two_bytes_to_len(aes_key_info[2:4])\n",
    "    aes_key = aes_key_info[4:(4 + aes_key_len)]\n",
    "    aes_iv = aes_key_info[(4 + aes_key_len):(4 + aes_key_len + aes_iv_len)]\n",
    "    verification_message, compressed_message = DecryptAndVerifyUsingAES(aes_auth_cipher, aes_key, aes_iv)\n",
    "\n",
    "    if verification_aes_key_info and verification_message:\n",
    "        message = decompress(compressed_message)\n",
    "        bytes_text_len = four_bytes_to_len(message[:4])\n",
    "        bytes_filename_len = four_bytes_to_len(message[4:8])\n",
    "        bytes_file_len = four_bytes_to_len(message[8:12])\n",
    "        bytes_text = message[12:(12 + bytes_text_len)]\n",
    "        bytes_filename = message[(12 + bytes_text_len):(12 + bytes_text_len + bytes_filename_len)]\n",
    "        bytes_file = message[(12 + bytes_text_len + bytes_filename_len):]\n",
    "        if bytes_text_len != 0:\n",
    "            text = bytes_text.decode(\"utf-8\")\n",
    "        else:\n",
    "            text = \"\"\n",
    "        if bytes_filename_len != 0:\n",
    "            filename = bytes_filename.decode(\"utf-8\")\n",
    "            with open(filename, \"wb\") as file:\n",
    "                file.write(bytes_file)\n",
    "        return True, text\n",
    "    else:\n",
    "        return False, \"\""
   ]
  },
  {
   "cell_type": "markdown",
   "metadata": {},
   "source": [
    "### Simple Test"
   ]
  },
  {
   "cell_type": "code",
   "execution_count": null,
   "metadata": {
    "collapsed": true
   },
   "outputs": [],
   "source": [
    "sender_private_key = GenRSAKeyPair(key_size=8192)\n",
    "sender_public_key = sender_private_key.public_key()\n",
    "\n",
    "receiver_private_key = GenRSAKeyPair(key_size=8192)\n",
    "receiver_public_key = receiver_private_key.public_key()\n",
    "\n",
    "datagram = SignAndEncryptMessage(sender_private_key, receiver_public_key, text=\"Просто пример текста\", filename=\"23.jpg\")\n",
    "\n",
    "verification, text = DecryptAndVerifyMessage(datagram, sender_public_key, receiver_private_key)\n",
    "\n",
    "print(verification, text)"
   ]
  }
 ],
 "metadata": {
  "anaconda-cloud": {},
  "kernelspec": {
   "display_name": "Python [default]",
   "language": "python",
   "name": "python3"
  },
  "language_info": {
   "codemirror_mode": {
    "name": "ipython",
    "version": 3
   },
   "file_extension": ".py",
   "mimetype": "text/x-python",
   "name": "python",
   "nbconvert_exporter": "python",
   "pygments_lexer": "ipython3",
   "version": "3.5.2"
  }
 },
 "nbformat": 4,
 "nbformat_minor": 2
}
