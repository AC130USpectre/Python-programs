{
 "cells": [
  {
   "cell_type": "markdown",
   "metadata": {},
   "source": [
    "## Crawling [cikrf.ru](http://www.cikrf.ru/) website"
   ]
  },
  {
   "cell_type": "code",
   "execution_count": 1,
   "metadata": {
    "collapsed": true
   },
   "outputs": [],
   "source": [
    "import requests\n",
    "import lxml.html\n",
    "\n",
    "import numpy as np\n",
    "\n",
    "from transliterate import translit"
   ]
  },
  {
   "cell_type": "code",
   "execution_count": 8,
   "metadata": {
    "collapsed": false
   },
   "outputs": [],
   "source": [
    "def normalize_string(string, to_strip=True,\n",
    "                     to_rm_chars=\",)('\",\n",
    "                     to_replace_chars=' ', to_replace_with='_',\n",
    "                     to_replace_patterns=[('_-_', '-')],\n",
    "                     to_translit=True):\n",
    "\n",
    "    # whitespace characters stripping\n",
    "    if to_strip:\n",
    "        string = string.strip()\n",
    "\n",
    "    # characters removing\n",
    "    if to_rm_chars:\n",
    "        for c in to_rm_chars:\n",
    "            string = string.replace(c, '')\n",
    "\n",
    "    # characters replacing\n",
    "    if to_replace_chars and to_replace_with:\n",
    "        for c in to_replace_chars:\n",
    "            string = string.replace(c, to_replace_with)\n",
    "\n",
    "    # substrings replacing\n",
    "    if to_replace_patterns:\n",
    "        for pattern in to_replace_patterns:\n",
    "            string = string.replace(pattern[0], pattern[1])\n",
    "\n",
    "    # transliteration\n",
    "    if to_translit:\n",
    "        string=translit(string, reversed=True)\n",
    "\n",
    "    return string\n",
    "\n",
    "def get_links_dict_from_page(page):\n",
    "    page_tree = lxml.html.document_fromstring(page.text)\n",
    "    dictionary = {normalize_string(el.text) : el.values()[0] for el in page_tree.forms[0][0] if el.keys()[0] == 'value'}\n",
    "    keys = [normalize_string(el.text) for el in page_tree.forms[0][0] if el.keys()[0] == 'value']\n",
    "    return dictionary, keys\n",
    "\n",
    "def get_link_to_table(page):\n",
    "    page_tree = lxml.html.document_fromstring(page.text)\n",
    "    return page_tree.find_class('tdReport')[-1][0][1].values()[0]\n",
    "\n",
    "def get_table_from_page(page, iii):\n",
    "    try:\n",
    "        page_tree = lxml.html.document_fromstring(page.text)\n",
    "        table = page_tree.xpath('/html/body/table[2]/tr[4]/td/table[6]')[0]\n",
    "\n",
    "        # first column\n",
    "        key = normalize_string(table[0][0][0][0][1].text_content())\n",
    "\n",
    "        value = []\n",
    "        for el in table[0][0][0][1:13]:\n",
    "            value.append(int(el[2].text_content()))\n",
    "        for el in table[0][0][0][14:]:\n",
    "            value.append(int(el[2].text_content().split('\\n')[0].strip()))\n",
    "\n",
    "        # other columns\n",
    "        keys = []\n",
    "\n",
    "        for i in table[0][1][0][0][0]:\n",
    "            keys.append(normalize_string(i.text_content()))\n",
    "\n",
    "        values = [[] for i in range(20)]\n",
    "        count = 0\n",
    "        for el in table[0][1][0][0][1:13]:\n",
    "            for sub_el in el:\n",
    "                values[count].append(int(sub_el.text_content().strip()))\n",
    "            count += 1\n",
    "        for el in table[0][1][0][0][14:]:\n",
    "            for sub_el in el:\n",
    "                values[count].append(int(sub_el.text_content().split('\\n')[0].strip()))\n",
    "            count += 1\n",
    "\n",
    "        # concatenating columns\n",
    "        keys = [key] + keys\n",
    "\n",
    "        for i in range(20):\n",
    "            values[i] = [value[i]] + values[i]\n",
    "\n",
    "        # making table\n",
    "        values = [tuple(i) for i in values]\n",
    "        dt = list(zip(keys, ['<i4'] * len(keys)))\n",
    "        table = np.array(values, dtype=dt)\n",
    "\n",
    "        return table\n",
    "    except:\n",
    "        print(iii)"
   ]
  },
  {
   "cell_type": "code",
   "execution_count": 3,
   "metadata": {
    "collapsed": true
   },
   "outputs": [],
   "source": [
    "lvl0_link = 'http://www.vybory.izbirkom.ru/region/izbirkom?action=show&root_a=1000001&vrn=100100084849062&region=0&global=true&type=0&prver=0&pronetvd=null'\n",
    "lvl0_page = requests.get(lvl0_link)\n",
    "\n",
    "lvl0_table_link = get_link_to_table(lvl0_page)\n",
    "lvl0_table_page = requests.get(lvl0_table_link)\n",
    "lvl0_table = get_table_from_page(lvl0_table_page)"
   ]
  },
  {
   "cell_type": "code",
   "execution_count": 6,
   "metadata": {
    "collapsed": false
   },
   "outputs": [
    {
     "name": "stdout",
     "output_type": "stream",
     "text": [
      "Summa\n",
      "Summa\n"
     ]
    }
   ],
   "source": [
    "lvl1_links, lvl1_keys = get_links_dict_from_page(lvl0_page)\n",
    "lvl1_special_keys = tuple(lvl1_keys[-2:])\n",
    "assert(87 == len(lvl1_keys))\n",
    "lvl1_pages = {i : requests.get(lvl1_links[i]) for i in lvl1_keys}\n",
    "\n",
    "lvl1_table_links = {i : get_link_to_table(lvl1_pages[i]) for i in lvl1_keys}\n",
    "lvl1_table_pages = {i : requests.get(lvl1_table_links[i]) for i in lvl1_keys}\n",
    "lvl1_tables = {i : get_table_from_page(lvl1_table_pages[i], i) for i in lvl1_keys}"
   ]
  },
  {
   "cell_type": "code",
   "execution_count": 10,
   "metadata": {
    "collapsed": false
   },
   "outputs": [
    {
     "data": {
      "text/plain": [
       "{'98_Gorod_Bajkonur_Respublika_Kazahstan': 'http://www.vybory.izbirkom.ru/region/region/izbirkom?action=show&root=1000087&tvd=100100084849218&vrn=100100084849062&region=0&global=true&sub_region=0&prver=0&pronetvd=null&vibid=100100084849218&type=227',\n",
       " '99_Territorija_za_predelami_RF': 'http://www.vybory.izbirkom.ru/region/region/izbirkom?action=show&root=1000086&tvd=100100084849217&vrn=100100084849062&region=0&global=true&sub_region=0&prver=0&pronetvd=null&vibid=100100084849217&type=227',\n",
       " 'Altajskij_kraj': 'http://www.vybory.izbirkom.ru/region/region/izbirkom?action=show&root=1000022&tvd=100100084849148&vrn=100100084849062&region=0&global=true&sub_region=0&prver=0&pronetvd=null&vibid=100100084849148&type=227',\n",
       " \"Amurskaja_oblast'\": 'http://www.vybory.izbirkom.ru/region/region/izbirkom?action=show&root=1000028&tvd=100100084849154&vrn=100100084849062&region=0&global=true&sub_region=0&prver=0&pronetvd=null&vibid=100100084849154&type=227',\n",
       " \"Arhangel'skaja_oblast'\": 'http://www.vybory.izbirkom.ru/region/region/izbirkom?action=show&root=1000029&tvd=100100084849155&vrn=100100084849062&region=0&global=true&sub_region=0&prver=0&pronetvd=null&vibid=100100084849155&type=227',\n",
       " \"Astrahanskaja_oblast'\": 'http://www.vybory.izbirkom.ru/region/region/izbirkom?action=show&root=1000030&tvd=100100084849156&vrn=100100084849062&region=0&global=true&sub_region=0&prver=0&pronetvd=null&vibid=100100084849156&type=227',\n",
       " \"Belgorodskaja_oblast'\": 'http://www.vybory.izbirkom.ru/region/region/izbirkom?action=show&root=1000031&tvd=100100084849157&vrn=100100084849062&region=0&global=true&sub_region=0&prver=0&pronetvd=null&vibid=100100084849157&type=227',\n",
       " \"Brjanskaja_oblast'\": 'http://www.vybory.izbirkom.ru/region/region/izbirkom?action=show&root=1000032&tvd=100100084849158&vrn=100100084849062&region=0&global=true&sub_region=0&prver=0&pronetvd=null&vibid=100100084849158&type=227',\n",
       " 'Chechenskaja_Respublika': 'http://www.vybory.izbirkom.ru/region/region/izbirkom?action=show&root=1000020&tvd=100100084849146&vrn=100100084849062&region=0&global=true&sub_region=0&prver=0&pronetvd=null&vibid=100100084849146&type=227',\n",
       " \"Cheljabinskaja_oblast'\": 'http://www.vybory.izbirkom.ru/region/region/izbirkom?action=show&root=1000072&tvd=100100084849198&vrn=100100084849062&region=0&global=true&sub_region=0&prver=0&pronetvd=null&vibid=100100084849198&type=227',\n",
       " 'Chukotskij_avtonomnyj_okrug': 'http://www.vybory.izbirkom.ru/region/region/izbirkom?action=show&root=1000079&tvd=100100084849205&vrn=100100084849062&region=0&global=true&sub_region=0&prver=0&pronetvd=null&vibid=100100084849205&type=227',\n",
       " 'Chuvashskaja_Respublika-Chuvashija': 'http://www.vybory.izbirkom.ru/region/region/izbirkom?action=show&root=1000021&tvd=100100084849147&vrn=100100084849062&region=0&global=true&sub_region=0&prver=0&pronetvd=null&vibid=100100084849147&type=227',\n",
       " \"Evrejskaja_avtonomnaja_oblast'\": 'http://www.vybory.izbirkom.ru/region/region/izbirkom?action=show&root=1000076&tvd=100100084849202&vrn=100100084849062&region=0&global=true&sub_region=0&prver=0&pronetvd=null&vibid=100100084849202&type=227',\n",
       " 'Habarovskij_kraj': 'http://www.vybory.izbirkom.ru/region/region/izbirkom?action=show&root=1000027&tvd=100100084849153&vrn=100100084849062&region=0&global=true&sub_region=0&prver=0&pronetvd=null&vibid=100100084849153&type=227',\n",
       " 'Hanty-Mansijskij_avtonomnyj_okrug-Jugra': 'http://www.vybory.izbirkom.ru/region/region/izbirkom?action=show&root=1000078&tvd=100100084849204&vrn=100100084849062&region=0&global=true&sub_region=0&prver=0&pronetvd=null&vibid=100100084849204&type=227',\n",
       " \"Irkutskaja_oblast'\": 'http://www.vybory.izbirkom.ru/region/region/izbirkom?action=show&root=1000038&tvd=100100084849164&vrn=100100084849062&region=0&global=true&sub_region=0&prver=0&pronetvd=null&vibid=100100084849164&type=227',\n",
       " \"Ivanovskaja_oblast'\": 'http://www.vybory.izbirkom.ru/region/region/izbirkom?action=show&root=1000037&tvd=100100084849163&vrn=100100084849062&region=0&global=true&sub_region=0&prver=0&pronetvd=null&vibid=100100084849163&type=227',\n",
       " 'Jamalo-Nenetskij_avtonomnyj_okrug': 'http://www.vybory.izbirkom.ru/region/region/izbirkom?action=show&root=1000080&tvd=100100084849206&vrn=100100084849062&region=0&global=true&sub_region=0&prver=0&pronetvd=null&vibid=100100084849206&type=227',\n",
       " \"Jaroslavskaja_oblast'\": 'http://www.vybory.izbirkom.ru/region/region/izbirkom?action=show&root=1000073&tvd=100100084849199&vrn=100100084849062&region=0&global=true&sub_region=0&prver=0&pronetvd=null&vibid=100100084849199&type=227',\n",
       " 'Kabardino-Balkarskaja_Respublika': 'http://www.vybory.izbirkom.ru/region/region/izbirkom?action=show&root=1000007&tvd=100100084849073&vrn=100100084849062&region=0&global=true&sub_region=0&prver=0&pronetvd=null&vibid=100100084849073&type=227',\n",
       " \"Kaliningradskaja_oblast'\": 'http://www.vybory.izbirkom.ru/region/region/izbirkom?action=show&root=1000039&tvd=100100084849165&vrn=100100084849062&region=0&global=true&sub_region=0&prver=0&pronetvd=null&vibid=100100084849165&type=227',\n",
       " \"Kaluzhskaja_oblast'\": 'http://www.vybory.izbirkom.ru/region/region/izbirkom?action=show&root=1000040&tvd=100100084849166&vrn=100100084849062&region=0&global=true&sub_region=0&prver=0&pronetvd=null&vibid=100100084849166&type=227',\n",
       " 'Kamchatskij_kraj': 'http://www.vybory.izbirkom.ru/region/region/izbirkom?action=show&root=1000082&tvd=100100084849208&vrn=100100084849062&region=0&global=true&sub_region=0&prver=0&pronetvd=null&vibid=100100084849208&type=227',\n",
       " 'Karachaevo-Cherkesskaja_Respublika': 'http://www.vybory.izbirkom.ru/region/region/izbirkom?action=show&root=1000009&tvd=100100084849135&vrn=100100084849062&region=0&global=true&sub_region=0&prver=0&pronetvd=null&vibid=100100084849135&type=227',\n",
       " \"Kemerovskaja_oblast'\": 'http://www.vybory.izbirkom.ru/region/region/izbirkom?action=show&root=1000041&tvd=100100084849167&vrn=100100084849062&region=0&global=true&sub_region=0&prver=0&pronetvd=null&vibid=100100084849167&type=227',\n",
       " \"Kirovskaja_oblast'\": 'http://www.vybory.izbirkom.ru/region/region/izbirkom?action=show&root=1000042&tvd=100100084849168&vrn=100100084849062&region=0&global=true&sub_region=0&prver=0&pronetvd=null&vibid=100100084849168&type=227',\n",
       " \"Kostromskaja_oblast'\": 'http://www.vybory.izbirkom.ru/region/region/izbirkom?action=show&root=1000043&tvd=100100084849169&vrn=100100084849062&region=0&global=true&sub_region=0&prver=0&pronetvd=null&vibid=100100084849169&type=227',\n",
       " 'Krasnodarskij_kraj': 'http://www.vybory.izbirkom.ru/region/region/izbirkom?action=show&root=1000023&tvd=100100084849149&vrn=100100084849062&region=0&global=true&sub_region=0&prver=0&pronetvd=null&vibid=100100084849149&type=227',\n",
       " 'Krasnojarskij_kraj': 'http://www.vybory.izbirkom.ru/region/region/izbirkom?action=show&root=1000024&tvd=100100084849150&vrn=100100084849062&region=0&global=true&sub_region=0&prver=0&pronetvd=null&vibid=100100084849150&type=227',\n",
       " \"Kurganskaja_oblast'\": 'http://www.vybory.izbirkom.ru/region/region/izbirkom?action=show&root=1000044&tvd=100100084849170&vrn=100100084849062&region=0&global=true&sub_region=0&prver=0&pronetvd=null&vibid=100100084849170&type=227',\n",
       " \"Kurskaja_oblast'\": 'http://www.vybory.izbirkom.ru/region/region/izbirkom?action=show&root=1000045&tvd=100100084849171&vrn=100100084849062&region=0&global=true&sub_region=0&prver=0&pronetvd=null&vibid=100100084849171&type=227',\n",
       " \"Leningradskaja_oblast'\": 'http://www.vybory.izbirkom.ru/region/region/izbirkom?action=show&root=1000046&tvd=100100084849172&vrn=100100084849062&region=0&global=true&sub_region=0&prver=0&pronetvd=null&vibid=100100084849172&type=227',\n",
       " \"Lipetskaja_oblast'\": 'http://www.vybory.izbirkom.ru/region/region/izbirkom?action=show&root=1000047&tvd=100100084849173&vrn=100100084849062&region=0&global=true&sub_region=0&prver=0&pronetvd=null&vibid=100100084849173&type=227',\n",
       " \"Magadanskaja_oblast'\": 'http://www.vybory.izbirkom.ru/region/region/izbirkom?action=show&root=1000048&tvd=100100084849174&vrn=100100084849062&region=0&global=true&sub_region=0&prver=0&pronetvd=null&vibid=100100084849174&type=227',\n",
       " \"Moskovskaja_oblast'\": 'http://www.vybory.izbirkom.ru/region/region/izbirkom?action=show&root=1000049&tvd=100100084849175&vrn=100100084849062&region=0&global=true&sub_region=0&prver=0&pronetvd=null&vibid=100100084849175&type=227',\n",
       " \"Murmanskaja_oblast'\": 'http://www.vybory.izbirkom.ru/region/region/izbirkom?action=show&root=1000050&tvd=100100084849176&vrn=100100084849062&region=0&global=true&sub_region=0&prver=0&pronetvd=null&vibid=100100084849176&type=227',\n",
       " 'Nenetskij_avtonomnyj_okrug': 'http://www.vybory.izbirkom.ru/region/region/izbirkom?action=show&root=1000077&tvd=100100084849203&vrn=100100084849062&region=0&global=true&sub_region=0&prver=0&pronetvd=null&vibid=100100084849203&type=227',\n",
       " \"Nizhegorodskaja_oblast'\": 'http://www.vybory.izbirkom.ru/region/region/izbirkom?action=show&root=1000051&tvd=100100084849177&vrn=100100084849062&region=0&global=true&sub_region=0&prver=0&pronetvd=null&vibid=100100084849177&type=227',\n",
       " \"Novgorodskaja_oblast'\": 'http://www.vybory.izbirkom.ru/region/region/izbirkom?action=show&root=1000052&tvd=100100084849178&vrn=100100084849062&region=0&global=true&sub_region=0&prver=0&pronetvd=null&vibid=100100084849178&type=227',\n",
       " \"Novosibirskaja_oblast'\": 'http://www.vybory.izbirkom.ru/region/region/izbirkom?action=show&root=1000053&tvd=100100084849179&vrn=100100084849062&region=0&global=true&sub_region=0&prver=0&pronetvd=null&vibid=100100084849179&type=227',\n",
       " \"Omskaja_oblast'\": 'http://www.vybory.izbirkom.ru/region/region/izbirkom?action=show&root=1000054&tvd=100100084849180&vrn=100100084849062&region=0&global=true&sub_region=0&prver=0&pronetvd=null&vibid=100100084849180&type=227',\n",
       " \"Orenburgskaja_oblast'\": 'http://www.vybory.izbirkom.ru/region/region/izbirkom?action=show&root=1000055&tvd=100100084849181&vrn=100100084849062&region=0&global=true&sub_region=0&prver=0&pronetvd=null&vibid=100100084849181&type=227',\n",
       " \"Orlovskaja_oblast'\": 'http://www.vybory.izbirkom.ru/region/region/izbirkom?action=show&root=1000056&tvd=100100084849182&vrn=100100084849062&region=0&global=true&sub_region=0&prver=0&pronetvd=null&vibid=100100084849182&type=227',\n",
       " \"Penzenskaja_oblast'\": 'http://www.vybory.izbirkom.ru/region/region/izbirkom?action=show&root=1000057&tvd=100100084849183&vrn=100100084849062&region=0&global=true&sub_region=0&prver=0&pronetvd=null&vibid=100100084849183&type=227',\n",
       " 'Permskij_kraj': 'http://www.vybory.izbirkom.ru/region/region/izbirkom?action=show&root=1000081&tvd=100100084849207&vrn=100100084849062&region=0&global=true&sub_region=0&prver=0&pronetvd=null&vibid=100100084849207&type=227',\n",
       " 'Primorskij_kraj': 'http://www.vybory.izbirkom.ru/region/region/izbirkom?action=show&root=1000025&tvd=100100084849151&vrn=100100084849062&region=0&global=true&sub_region=0&prver=0&pronetvd=null&vibid=100100084849151&type=227',\n",
       " \"Pskovskaja_oblast'\": 'http://www.vybory.izbirkom.ru/region/region/izbirkom?action=show&root=1000058&tvd=100100084849184&vrn=100100084849062&region=0&global=true&sub_region=0&prver=0&pronetvd=null&vibid=100100084849184&type=227',\n",
       " 'Respublika_Adygeja_Adygeja': 'http://www.vybory.izbirkom.ru/region/region/izbirkom?action=show&root=1000001&tvd=100100084849067&vrn=100100084849062&region=0&global=true&sub_region=0&prver=0&pronetvd=null&vibid=100100084849067&type=227',\n",
       " 'Respublika_Altaj': 'http://www.vybory.izbirkom.ru/region/region/izbirkom?action=show&root=1000002&tvd=100100084849068&vrn=100100084849062&region=0&global=true&sub_region=0&prver=0&pronetvd=null&vibid=100100084849068&type=227',\n",
       " 'Respublika_Bashkortostan': 'http://www.vybory.izbirkom.ru/region/region/izbirkom?action=show&root=1000003&tvd=100100084849069&vrn=100100084849062&region=0&global=true&sub_region=0&prver=0&pronetvd=null&vibid=100100084849069&type=227',\n",
       " 'Respublika_Burjatija': 'http://www.vybory.izbirkom.ru/region/region/izbirkom?action=show&root=1000004&tvd=100100084849070&vrn=100100084849062&region=0&global=true&sub_region=0&prver=0&pronetvd=null&vibid=100100084849070&type=227',\n",
       " 'Respublika_Dagestan': 'http://www.vybory.izbirkom.ru/region/region/izbirkom?action=show&root=1000005&tvd=100100084849071&vrn=100100084849062&region=0&global=true&sub_region=0&prver=0&pronetvd=null&vibid=100100084849071&type=227',\n",
       " 'Respublika_Hakasija': 'http://www.vybory.izbirkom.ru/region/region/izbirkom?action=show&root=1000019&tvd=100100084849145&vrn=100100084849062&region=0&global=true&sub_region=0&prver=0&pronetvd=null&vibid=100100084849145&type=227',\n",
       " 'Respublika_Ingushetija': 'http://www.vybory.izbirkom.ru/region/region/izbirkom?action=show&root=1000006&tvd=100100084849072&vrn=100100084849062&region=0&global=true&sub_region=0&prver=0&pronetvd=null&vibid=100100084849072&type=227',\n",
       " 'Respublika_Kalmykija': 'http://www.vybory.izbirkom.ru/region/region/izbirkom?action=show&root=1000008&tvd=100100084849134&vrn=100100084849062&region=0&global=true&sub_region=0&prver=0&pronetvd=null&vibid=100100084849134&type=227',\n",
       " 'Respublika_Karelija': 'http://www.vybory.izbirkom.ru/region/region/izbirkom?action=show&root=1000010&tvd=100100084849136&vrn=100100084849062&region=0&global=true&sub_region=0&prver=0&pronetvd=null&vibid=100100084849136&type=227',\n",
       " 'Respublika_Komi': 'http://www.vybory.izbirkom.ru/region/region/izbirkom?action=show&root=1000011&tvd=100100084849137&vrn=100100084849062&region=0&global=true&sub_region=0&prver=0&pronetvd=null&vibid=100100084849137&type=227',\n",
       " 'Respublika_Krym': 'http://www.vybory.izbirkom.ru/region/region/izbirkom?action=show&root=1000084&tvd=100100084849210&vrn=100100084849062&region=0&global=true&sub_region=0&prver=0&pronetvd=null&vibid=100100084849210&type=227',\n",
       " 'Respublika_Marij_El': 'http://www.vybory.izbirkom.ru/region/region/izbirkom?action=show&root=1000012&tvd=100100084849138&vrn=100100084849062&region=0&global=true&sub_region=0&prver=0&pronetvd=null&vibid=100100084849138&type=227',\n",
       " 'Respublika_Mordovija': 'http://www.vybory.izbirkom.ru/region/region/izbirkom?action=show&root=1000013&tvd=100100084849139&vrn=100100084849062&region=0&global=true&sub_region=0&prver=0&pronetvd=null&vibid=100100084849139&type=227',\n",
       " 'Respublika_Saha_Jakutija': 'http://www.vybory.izbirkom.ru/region/region/izbirkom?action=show&root=1000014&tvd=100100084849140&vrn=100100084849062&region=0&global=true&sub_region=0&prver=0&pronetvd=null&vibid=100100084849140&type=227',\n",
       " 'Respublika_Severnaja_Osetija-Alanija': 'http://www.vybory.izbirkom.ru/region/region/izbirkom?action=show&root=1000015&tvd=100100084849141&vrn=100100084849062&region=0&global=true&sub_region=0&prver=0&pronetvd=null&vibid=100100084849141&type=227',\n",
       " 'Respublika_Tatarstan_Tatarstan': 'http://www.vybory.izbirkom.ru/region/region/izbirkom?action=show&root=1000016&tvd=100100084849142&vrn=100100084849062&region=0&global=true&sub_region=0&prver=0&pronetvd=null&vibid=100100084849142&type=227',\n",
       " 'Respublika_Tyva': 'http://www.vybory.izbirkom.ru/region/region/izbirkom?action=show&root=1000017&tvd=100100084849143&vrn=100100084849062&region=0&global=true&sub_region=0&prver=0&pronetvd=null&vibid=100100084849143&type=227',\n",
       " \"Rjazanskaja_oblast'\": 'http://www.vybory.izbirkom.ru/region/region/izbirkom?action=show&root=1000060&tvd=100100084849186&vrn=100100084849062&region=0&global=true&sub_region=0&prver=0&pronetvd=null&vibid=100100084849186&type=227',\n",
       " \"Rostovskaja_oblast'\": 'http://www.vybory.izbirkom.ru/region/region/izbirkom?action=show&root=1000059&tvd=100100084849185&vrn=100100084849062&region=0&global=true&sub_region=0&prver=0&pronetvd=null&vibid=100100084849185&type=227',\n",
       " \"Sahalinskaja_oblast'\": 'http://www.vybory.izbirkom.ru/region/region/izbirkom?action=show&root=1000063&tvd=100100084849189&vrn=100100084849062&region=0&global=true&sub_region=0&prver=0&pronetvd=null&vibid=100100084849189&type=227',\n",
       " \"Samarskaja_oblast'\": 'http://www.vybory.izbirkom.ru/region/region/izbirkom?action=show&root=1000061&tvd=100100084849187&vrn=100100084849062&region=0&global=true&sub_region=0&prver=0&pronetvd=null&vibid=100100084849187&type=227',\n",
       " \"Saratovskaja_oblast'\": 'http://www.vybory.izbirkom.ru/region/region/izbirkom?action=show&root=1000062&tvd=100100084849188&vrn=100100084849062&region=0&global=true&sub_region=0&prver=0&pronetvd=null&vibid=100100084849188&type=227',\n",
       " \"Smolenskaja_oblast'\": 'http://www.vybory.izbirkom.ru/region/region/izbirkom?action=show&root=1000065&tvd=100100084849191&vrn=100100084849062&region=0&global=true&sub_region=0&prver=0&pronetvd=null&vibid=100100084849191&type=227',\n",
       " \"Stavropol'skij_kraj\": 'http://www.vybory.izbirkom.ru/region/region/izbirkom?action=show&root=1000026&tvd=100100084849152&vrn=100100084849062&region=0&global=true&sub_region=0&prver=0&pronetvd=null&vibid=100100084849152&type=227',\n",
       " \"Sverdlovskaja_oblast'\": 'http://www.vybory.izbirkom.ru/region/region/izbirkom?action=show&root=1000064&tvd=100100084849190&vrn=100100084849062&region=0&global=true&sub_region=0&prver=0&pronetvd=null&vibid=100100084849190&type=227',\n",
       " \"Tambovskaja_oblast'\": 'http://www.vybory.izbirkom.ru/region/region/izbirkom?action=show&root=1000066&tvd=100100084849192&vrn=100100084849062&region=0&global=true&sub_region=0&prver=0&pronetvd=null&vibid=100100084849192&type=227',\n",
       " \"Tjumenskaja_oblast'\": 'http://www.vybory.izbirkom.ru/region/region/izbirkom?action=show&root=1000070&tvd=100100084849196&vrn=100100084849062&region=0&global=true&sub_region=0&prver=0&pronetvd=null&vibid=100100084849196&type=227',\n",
       " \"Tomskaja_oblast'\": 'http://www.vybory.izbirkom.ru/region/region/izbirkom?action=show&root=1000068&tvd=100100084849194&vrn=100100084849062&region=0&global=true&sub_region=0&prver=0&pronetvd=null&vibid=100100084849194&type=227',\n",
       " \"Tul'skaja_oblast'\": 'http://www.vybory.izbirkom.ru/region/region/izbirkom?action=show&root=1000069&tvd=100100084849195&vrn=100100084849062&region=0&global=true&sub_region=0&prver=0&pronetvd=null&vibid=100100084849195&type=227',\n",
       " \"Tverskaja_oblast'\": 'http://www.vybory.izbirkom.ru/region/region/izbirkom?action=show&root=1000067&tvd=100100084849193&vrn=100100084849062&region=0&global=true&sub_region=0&prver=0&pronetvd=null&vibid=100100084849193&type=227',\n",
       " 'Udmurtskaja_Respublika': 'http://www.vybory.izbirkom.ru/region/region/izbirkom?action=show&root=1000018&tvd=100100084849144&vrn=100100084849062&region=0&global=true&sub_region=0&prver=0&pronetvd=null&vibid=100100084849144&type=227',\n",
       " \"Ul'janovskaja_oblast'\": 'http://www.vybory.izbirkom.ru/region/region/izbirkom?action=show&root=1000071&tvd=100100084849197&vrn=100100084849062&region=0&global=true&sub_region=0&prver=0&pronetvd=null&vibid=100100084849197&type=227',\n",
       " \"Vladimirskaja_oblast'\": 'http://www.vybory.izbirkom.ru/region/region/izbirkom?action=show&root=1000033&tvd=100100084849159&vrn=100100084849062&region=0&global=true&sub_region=0&prver=0&pronetvd=null&vibid=100100084849159&type=227',\n",
       " \"Volgogradskaja_oblast'\": 'http://www.vybory.izbirkom.ru/region/region/izbirkom?action=show&root=1000034&tvd=100100084849160&vrn=100100084849062&region=0&global=true&sub_region=0&prver=0&pronetvd=null&vibid=100100084849160&type=227',\n",
       " \"Vologodskaja_oblast'\": 'http://www.vybory.izbirkom.ru/region/region/izbirkom?action=show&root=1000035&tvd=100100084849161&vrn=100100084849062&region=0&global=true&sub_region=0&prver=0&pronetvd=null&vibid=100100084849161&type=227',\n",
       " \"Voronezhskaja_oblast'\": 'http://www.vybory.izbirkom.ru/region/region/izbirkom?action=show&root=1000036&tvd=100100084849162&vrn=100100084849062&region=0&global=true&sub_region=0&prver=0&pronetvd=null&vibid=100100084849162&type=227',\n",
       " \"Zabajkal'skij_kraj\": 'http://www.vybory.izbirkom.ru/region/region/izbirkom?action=show&root=1000083&tvd=100100084849209&vrn=100100084849062&region=0&global=true&sub_region=0&prver=0&pronetvd=null&vibid=100100084849209&type=227',\n",
       " 'gorod_Moskva': 'http://www.vybory.izbirkom.ru/region/region/izbirkom?action=show&root=1000074&tvd=100100084849200&vrn=100100084849062&region=0&global=true&sub_region=0&prver=0&pronetvd=null&vibid=100100084849200&type=227',\n",
       " 'gorod_Sankt-Peterburg': 'http://www.vybory.izbirkom.ru/region/region/izbirkom?action=show&root=1000075&tvd=100100084849201&vrn=100100084849062&region=0&global=true&sub_region=0&prver=0&pronetvd=null&vibid=100100084849201&type=227',\n",
       " \"gorod_Sevastopol'\": 'http://www.vybory.izbirkom.ru/region/region/izbirkom?action=show&root=1000085&tvd=100100084849211&vrn=100100084849062&region=0&global=true&sub_region=0&prver=0&pronetvd=null&vibid=100100084849211&type=227'}"
      ]
     },
     "execution_count": 10,
     "metadata": {},
     "output_type": "execute_result"
    }
   ],
   "source": [
    "lvl1_table_links"
   ]
  },
  {
   "cell_type": "code",
   "execution_count": null,
   "metadata": {
    "collapsed": false
   },
   "outputs": [],
   "source": [
    "lvl1_special_keys = tuple(lvl1_keys[-2:])\n",
    "\n",
    "lvl2_links = {key : get_links_dict_from_page(lvl1_pages[key])[0] for key in lvl1_keys if key not in lvl1_special_keys}\n",
    "lvl2_keys = {key : get_links_dict_from_page(lvl1_pages[key])[1] for key in lvl1_keys if key not in lvl1_special_keys}"
   ]
  },
  {
   "cell_type": "markdown",
   "metadata": {},
   "source": [
    "http://www.vybory.izbirkom.ru/region/izbirkom?action=show&global=true&root=1000001&tvd=100100084849067&vrn=100100084849062&prver=0&pronetvd=null&region=0&sub_region=0&type=0&vibid=100100084849067"
   ]
  },
  {
   "cell_type": "markdown",
   "metadata": {},
   "source": [
    "http://www.vybory.izbirkom.ru/region/izbirkom?action=show&global=true&root=1000001&tvd=100100084849067&vrn=100100084849062&prver=0&pronetvd=null&region=0&sub_region=0&type=0&vibid=100100084849067"
   ]
  },
  {
   "cell_type": "markdown",
   "metadata": {},
   "source": [
    "http://www.vybory.izbirkom.ru/region/izbirkom?action=show&amp;global=true&amp;root=1000001&amp;tvd=100100084849067&amp;vrn=100100084849062&amp;prver=0&amp;pronetvd=null&amp;region=0&amp;sub_region=0&amp;type=0&amp;vibid=100100084849067"
   ]
  },
  {
   "cell_type": "code",
   "execution_count": null,
   "metadata": {
    "collapsed": true
   },
   "outputs": [],
   "source": [
    "data = np.genfromtxt(\"./Downloads/report.csv\", delimiter=',', names=True, dtype=np.int)"
   ]
  },
  {
   "cell_type": "code",
   "execution_count": null,
   "metadata": {
    "collapsed": false
   },
   "outputs": [],
   "source": [
    "data.dtype"
   ]
  },
  {
   "cell_type": "code",
   "execution_count": null,
   "metadata": {
    "collapsed": true
   },
   "outputs": [],
   "source": [
    "turnout = np.array([data[name][9] / data[name][0] for name in data.dtype.names])\n",
    "putin = np.array([data[name][15] / data[name][9] for name in data.dtype.names])\n",
    "other = np.array([1.0 - data[name][15] / data[name][9] for name in data.dtype.names])"
   ]
  },
  {
   "cell_type": "code",
   "execution_count": null,
   "metadata": {
    "collapsed": false
   },
   "outputs": [],
   "source": [
    "plt.scatter(turnout, putin)\n",
    "plt.scatter(turnout, other)"
   ]
  }
 ],
 "metadata": {
  "anaconda-cloud": {},
  "kernelspec": {
   "display_name": "Python [default]",
   "language": "python",
   "name": "python3"
  },
  "language_info": {
   "codemirror_mode": {
    "name": "ipython",
    "version": 3
   },
   "file_extension": ".py",
   "mimetype": "text/x-python",
   "name": "python",
   "nbconvert_exporter": "python",
   "pygments_lexer": "ipython3",
   "version": "3.5.2"
  }
 },
 "nbformat": 4,
 "nbformat_minor": 2
}
