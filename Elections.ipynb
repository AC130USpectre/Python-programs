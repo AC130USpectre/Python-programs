{
 "cells": [
  {
   "cell_type": "markdown",
   "metadata": {},
   "source": [
    "## Crawling [cikrf.ru](http://www.cikrf.ru/) website"
   ]
  },
  {
   "cell_type": "code",
   "execution_count": 1,
   "metadata": {
    "collapsed": true
   },
   "outputs": [],
   "source": [
    "import requests\n",
    "import lxml.html"
   ]
  },
  {
   "cell_type": "code",
   "execution_count": 2,
   "metadata": {
    "collapsed": false
   },
   "outputs": [],
   "source": [
    "def normalize_string(string, to_strip=True,\n",
    "                     to_rm_chars=',)(',\n",
    "                     to_replace_chars=' ', to_replace_with='_',\n",
    "                     to_replace_patterns=[('_-_', '-')]):\n",
    "\n",
    "    # обрезание пробельных символов\n",
    "    if to_strip:\n",
    "        string = string.strip()\n",
    "\n",
    "    # удаление символов\n",
    "    if to_rm_chars:\n",
    "        for c in to_rm_chars:\n",
    "            string = string.replace(c, '')\n",
    "\n",
    "    # замена символов\n",
    "    if to_replace_chars and to_replace_with:\n",
    "        for c in to_replace_chars:\n",
    "            string = string.replace(c, to_replace_with)\n",
    "\n",
    "    # замена подпоследовательностей\n",
    "    if to_replace_patterns:\n",
    "        for pattern in to_replace_patterns:\n",
    "            string = string.replace(pattern[0], pattern[1])\n",
    "\n",
    "    return string\n",
    "\n",
    "def get_links_dict_from_page(page):\n",
    "    page_tree = lxml.html.document_fromstring(page.text)\n",
    "    dictionary = {normalize_string(el.text) : el.values()[0] for el in page_tree.forms[0][0] if el.keys()[0] == 'value'}\n",
    "    keys = [normalize_string(el.text) for el in page_tree.forms[0][0] if el.keys()[0] == 'value']\n",
    "    return dictionary, keys"
   ]
  },
  {
   "cell_type": "code",
   "execution_count": 3,
   "metadata": {
    "collapsed": true
   },
   "outputs": [],
   "source": [
    "lvl0_link = 'http://www.vybory.izbirkom.ru/region/izbirkom?action=show&root_a=1000001&vrn=100100084849062&region=0&global=true&type=0&prver=0&pronetvd=null'\n",
    "\n",
    "lvl0_page = requests.get(lvl0_link)"
   ]
  },
  {
   "cell_type": "code",
   "execution_count": 4,
   "metadata": {
    "collapsed": false
   },
   "outputs": [],
   "source": [
    "lvl1_links, lvl1_keys = get_links_dict_from_page(lvl0_page)\n",
    "assert(87 == len(lvl1_keys))\n",
    "\n",
    "lvl1_pages = {i : requests.get(lvl1_links[i]) for i in lvl1_keys}"
   ]
  },
  {
   "cell_type": "code",
   "execution_count": 5,
   "metadata": {
    "collapsed": false
   },
   "outputs": [],
   "source": [
    "lvl1_special_keys = tuple(lvl1_keys[-2:])\n",
    "\n",
    "lvl2_links = {key : get_links_dict_from_page(lvl1_pages[key])[0] for key in lvl1_keys if key not in lvl1_special_keys}\n",
    "lvl2_keys = {key : get_links_dict_from_page(lvl1_pages[key])[1] for key in lvl1_keys if key not in lvl1_special_keys}"
   ]
  },
  {
   "cell_type": "raw",
   "metadata": {},
   "source": [
    "for key in lvl1_keys:\n",
    "    if key not in lvl1_special_keys:\n",
    "        print(key)\n",
    "        print(\" \".join(lvl2_keys[key]))"
   ]
  },
  {
   "cell_type": "markdown",
   "metadata": {},
   "source": [
    "http://www.vybory.izbirkom.ru/region/izbirkom?action=show&global=true&root=1000001&tvd=100100084849067&vrn=100100084849062&prver=0&pronetvd=null&region=0&sub_region=0&type=0&vibid=100100084849067"
   ]
  },
  {
   "cell_type": "markdown",
   "metadata": {},
   "source": [
    "http://www.vybory.izbirkom.ru/region/izbirkom?action=show&global=true&root=1000001&tvd=100100084849067&vrn=100100084849062&prver=0&pronetvd=null&region=0&sub_region=0&type=0&vibid=100100084849067"
   ]
  },
  {
   "cell_type": "markdown",
   "metadata": {},
   "source": [
    "http://www.vybory.izbirkom.ru/region/izbirkom?action=show&amp;global=true&amp;root=1000001&amp;tvd=100100084849067&amp;vrn=100100084849062&amp;prver=0&amp;pronetvd=null&amp;region=0&amp;sub_region=0&amp;type=0&amp;vibid=100100084849067"
   ]
  },
  {
   "cell_type": "code",
   "execution_count": 30,
   "metadata": {
    "collapsed": true
   },
   "outputs": [],
   "source": [
    "data = np.genfromtxt(\"./Downloads/report.csv\", delimiter=',', names=True, dtype=np.int)"
   ]
  },
  {
   "cell_type": "code",
   "execution_count": 31,
   "metadata": {
    "collapsed": false
   },
   "outputs": [
    {
     "data": {
      "text/plain": [
       "dtype([('Сумма', '<i8'), ('Республика_Адыгея_Адыгея', '<i8'), ('Республика_Алтай', '<i8'), ('Республика_Башкортостан', '<i8'), ('Республика_Бурятия', '<i8'), ('Республика_Дагестан', '<i8'), ('Республика_Ингушетия', '<i8'), ('КабардиноБалкарская_Республика', '<i8'), ('Республика_Калмыкия', '<i8'), ('КарачаевоЧеркесская_Республика', '<i8'), ('Республика_Карелия', '<i8'), ('Республика_Коми', '<i8'), ('Республика_Крым', '<i8'), ('Республика_Марий_Эл', '<i8'), ('Республика_Мордовия', '<i8'), ('Республика_Саха_Якутия', '<i8'), ('Республика_Северная_Осетия__Алания', '<i8'), ('Республика_Татарстан_Татарстан', '<i8'), ('Республика_Тыва', '<i8'), ('Удмуртская_Республика', '<i8'), ('Республика_Хакасия', '<i8'), ('Чеченская_Республика', '<i8'), ('Чувашская_Республика__Чувашия', '<i8'), ('Алтайский_край', '<i8'), ('Забайкальский_край', '<i8'), ('Камчатский_край', '<i8'), ('Краснодарский_край', '<i8'), ('Красноярский_край', '<i8'), ('Пермский_край', '<i8'), ('Приморский_край', '<i8'), ('Ставропольский_край', '<i8'), ('Хабаровский_край', '<i8'), ('Амурская_область', '<i8'), ('Архангельская_область', '<i8'), ('Астраханская_область', '<i8'), ('Белгородская_область', '<i8'), ('Брянская_область', '<i8'), ('Владимирская_область', '<i8'), ('Волгоградская_область', '<i8'), ('Вологодская_область', '<i8'), ('Воронежская_область', '<i8'), ('Ивановская_область', '<i8'), ('Иркутская_область', '<i8'), ('Калининградская_область', '<i8'), ('Калужская_область', '<i8'), ('Кемеровская_область', '<i8'), ('Кировская_область', '<i8'), ('Костромская_область', '<i8'), ('Курганская_область', '<i8'), ('Курская_область', '<i8'), ('Ленинградская_область', '<i8'), ('Липецкая_область', '<i8'), ('Магаданская_область', '<i8'), ('Московская_область', '<i8'), ('Мурманская_область', '<i8'), ('Нижегородская_область', '<i8'), ('Новгородская_область', '<i8'), ('Новосибирская_область', '<i8'), ('Омская_область', '<i8'), ('Оренбургская_область', '<i8'), ('Орловская_область', '<i8'), ('Пензенская_область', '<i8'), ('Псковская_область', '<i8'), ('Ростовская_область', '<i8'), ('Рязанская_область', '<i8'), ('Самарская_область', '<i8'), ('Саратовская_область', '<i8'), ('Сахалинская_область', '<i8'), ('Свердловская_область', '<i8'), ('Смоленская_область', '<i8'), ('Тамбовская_область', '<i8'), ('Тверская_область', '<i8'), ('Томская_область', '<i8'), ('Тульская_область', '<i8'), ('Тюменская_область', '<i8'), ('Ульяновская_область', '<i8'), ('Челябинская_область', '<i8'), ('Ярославская_область', '<i8'), ('город_Москва', '<i8'), ('город_СанктПетербург', '<i8'), ('город_Севастополь', '<i8'), ('Еврейская_автономная_область', '<i8'), ('Ненецкий_автономный_округ', '<i8'), ('ХантыМансийский_автономный_округ__Югра', '<i8'), ('Чукотский_автономный_округ', '<i8'), ('ЯмалоНенецкий_автономный_округ', '<i8'), ('Город_Байконур_Республика_Казахстан', '<i8'), ('Территория_за_пределами_РФ', '<i8')])"
      ]
     },
     "execution_count": 31,
     "metadata": {},
     "output_type": "execute_result"
    }
   ],
   "source": [
    "data.dtype"
   ]
  },
  {
   "cell_type": "code",
   "execution_count": 26,
   "metadata": {
    "collapsed": true
   },
   "outputs": [],
   "source": [
    "turnout = np.array([data[name][9] / data[name][0] for name in data.dtype.names])\n",
    "putin = np.array([data[name][15] / data[name][9] for name in data.dtype.names])\n",
    "other = np.array([1.0 - data[name][15] / data[name][9] for name in data.dtype.names])"
   ]
  },
  {
   "cell_type": "code",
   "execution_count": 29,
   "metadata": {
    "collapsed": false
   },
   "outputs": [
    {
     "data": {
      "text/plain": [
       "<matplotlib.collections.PathCollection at 0x7fd19c9e9710>"
      ]
     },
     "execution_count": 29,
     "metadata": {},
     "output_type": "execute_result"
    },
    {
     "data": {
      "image/png": "[encoded data removed]",
      "text/plain": [
       "<matplotlib.figure.Figure at 0x7fd19c9e94e0>"
      ]
     },
     "metadata": {},
     "output_type": "display_data"
    }
   ],
   "source": [
    "plt.scatter(turnout, putin)\n",
    "plt.scatter(turnout, other)"
   ]
  }
 ],
 "metadata": {
  "anaconda-cloud": {},
  "kernelspec": {
   "display_name": "Python [default]",
   "language": "python",
   "name": "python3"
  },
  "language_info": {
   "codemirror_mode": {
    "name": "ipython",
    "version": 3
   },
   "file_extension": ".py",
   "mimetype": "text/x-python",
   "name": "python",
   "nbconvert_exporter": "python",
   "pygments_lexer": "ipython3",
   "version": "3.5.2"
  }
 },
 "nbformat": 4,
 "nbformat_minor": 2
}
